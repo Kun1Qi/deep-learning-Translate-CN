{
 "cells": [
  {
   "cell_type": "markdown",
   "metadata": {},
   "source": [
    "# GELU\n",
    "\n",
    "📜 [Gaussian Error Linear Units (GELUs)](https://arxiv.org/pdf/1606.08415)\n",
    "\n",
    "> Despite having less of a statistical motivation, the ReLU remains a competitive engineering solution which often enables faster and better convergence than sigmoids.\n",
    "\n",
    "> Nonlinearities and dropout thus determine a neuron’s output together, yet the two innovations have remained distinct.\n",
    "\n",
    "> [GELU] relates to stochastic regularizers in that it is the expectation of a modification to Adaptive Dropout.\n",
    "\n",
    "### GELU Formulation\n",
    "\n",
    "> We motivate our activation function by combining properties from dropout, zone-out, and ReLUs.\n",
    "\n",
    "The paper introduces a stochastic regularizer that multiplies a neuron input $x$ by $m \\sim \\text{Bernoulli}(\\Phi(x))$ where $\\Phi(x)$ is the CDF of the Gaussian distribution (standard normal distribution).\n",
    "\n",
    "> We choose this distribution since neuron inputs tend to follow a normal distribution, especially with Batch Normalization.\n",
    "\n",
    "> In this setting, inputs have a higher probability of being “dropped” as x decreases, so the transformation applied to x is stochastic yet depends upon the input.\n",
    "\n",
    "Here, we have something similar to adaptive dropout, where the probability of dropout is not constant, but instead is dependent on the input value (more “important” inputs, as determined their relative scale after normalization are less likely to be dropped out).\n",
    "\n",
    "In order to motivate our non-linearity, we create a deterministic version of this function $\\textrm{GELU}(x) = x \\Phi(x)$.\n",
    "\n",
    "With this function, $x$ gets closer to the identity as the CDF gets higher, and $x$ gets closer to being zeroed as the CDF gets lower. Asymptotically, this distribution behaves the same as ReLU.\n",
    "\n",
    "> Loosely, this expression states that we scale x by how much greater it is than other inputs.\n",
    "\n",
    "Basically, $x$ gets prioritized to be mapped to the identity function if it is originally much larger than the other inputs to normalization, and thus is normalized to a higher value.\n",
    "\n",
    "### Discussion\n",
    "\n",
    "> For example, as σ → 0 and if µ = 0, the GELU becomes a ReLU.\n",
    "\n",
    "> More, the ReLU and GELU are equal asymptotically\n",
    "\n",
    "> In fact, the GELU can be viewed as a way to smooth a ReLU.\n",
    "\n",
    "> This non-convex, non-monotonic function is not linear in the positive domain and exhibits curvature at all points. Meanwhile ReLUs and ELUs, which are convex and monotonic activations, are linear in the positive domain and thereby can lack curvature. As such, increased curvature and non-monotonicity may allow GELUs to more easily\n",
    "> approximate complicated functions than can ReLUs or ELUs.\n",
    "\n",
    "> We can see that the ReLU gates the input depending upon its sign, while the GELU weights its input depending upon how much greater it is than other inputs.\n",
    "\n",
    "> In addition and significantly, the GELU has a probabilistic interpretation given that it is the expectation of a stochastic regularizer.\n",
    "\n",
    "### Conclusion\n",
    "\n",
    "> For the numerous datasets evaluated in this paper, the GELU exceeded the accuracy of the ELU and ReLU consistently, making it a viable alternative to previous nonlinearities.\n"
   ]
  }
 ],
 "metadata": {
  "language_info": {
   "name": "python"
  }
 },
 "nbformat": 4,
 "nbformat_minor": 2
}
